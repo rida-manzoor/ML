{
  "nbformat": 4,
  "nbformat_minor": 0,
  "metadata": {
    "colab": {
      "provenance": [],
      "authorship_tag": "ABX9TyOH6iuaiQFbI6Fsbs8czvyk",
      "include_colab_link": true
    },
    "kernelspec": {
      "name": "python3",
      "display_name": "Python 3"
    },
    "language_info": {
      "name": "python"
    }
  },
  "cells": [
    {
      "cell_type": "markdown",
      "metadata": {
        "id": "view-in-github",
        "colab_type": "text"
      },
      "source": [
        "<a href=\"https://colab.research.google.com/github/rida-manzoor/ML/blob/main/LDA.ipynb\" target=\"_parent\"><img src=\"https://colab.research.google.com/assets/colab-badge.svg\" alt=\"Open In Colab\"/></a>"
      ]
    },
    {
      "cell_type": "markdown",
      "source": [
        "**Linear Discriminant Analysis (LDA)** is a supervised dimensionality reduction technique that finds the linear combinations of features that best separate different classes in a dataset. It aims to maximize the distance between the means of different classes while minimizing the spread within each class."
      ],
      "metadata": {
        "id": "b2CRR7aOjgCH"
      }
    },
    {
      "cell_type": "markdown",
      "source": [
        "## Steps in LDA\n",
        "\n",
        "1. **Compute Class Means:**\n",
        "   - Calculate the mean vector for each class in the dataset. This involves finding the mean values for each feature for each class.\n",
        "\n",
        "2. **Compute Scatter Matrices:**\n",
        "   - Compute the scatter matrix within classes (scatter within-class) and the scatter matrix between classes (scatter between-class).\n",
        "     - Within-class scatter matrix \\( S_W \\): This matrix measures the spread of data within each class.\n",
        "     - Between-class scatter matrix \\( S_B \\): This matrix measures the spread between different classes.\n",
        "\n",
        "3. **Compute Eigenvectors and Eigenvalues:**\n",
        "   - Solve the generalized eigenvalue problem to find the eigenvectors and eigenvalues of the matrix \\( S_W^{-1} S_B \\).\n",
        "   - The eigenvectors represent the directions of maximum variance between classes, and the corresponding eigenvalues indicate the importance of these directions.\n",
        "\n",
        "4. **Sort Eigenvectors:**\n",
        "   - Sort the eigenvectors in descending order based on their corresponding eigenvalues. This ensures that the most discriminative directions come first.\n",
        "\n",
        "5. **Choose the Top k Eigenvectors:**\n",
        "   - Select the top k eigenvectors corresponding to the k largest eigenvalues to form a transformation matrix \\( W \\). This matrix will be used to project the data onto a new subspace.\n",
        "\n",
        "6. **Project Data onto New Subspace:**\n",
        "   - Use the transformation matrix \\( W \\) to project the original data onto the new subspace.\n",
        "\n",
        "LDA aims to maximize the separation between classes in the projected subspace, making it particularly useful for dimensionality reduction in a supervised learning context.\n"
      ],
      "metadata": {
        "id": "K6TpEI14jx0Y"
      }
    },
    {
      "cell_type": "markdown",
      "source": [
        "## Pros\n",
        "1. Maximize Class speration\n",
        "2. Dimentionality reduction\n",
        "\n",
        "## Cons\n",
        "1. Sensitive to outlier\n",
        "2. Assumption of normality\n",
        "3. Requires sufficient samples"
      ],
      "metadata": {
        "id": "U66P2wSukrgB"
      }
    },
    {
      "cell_type": "code",
      "execution_count": 2,
      "metadata": {
        "colab": {
          "base_uri": "https://localhost:8080/",
          "height": 487
        },
        "id": "kpq0ppYJiZfk",
        "outputId": "a9602cf5-9158-435e-ce66-c3da598c3a16"
      },
      "outputs": [
        {
          "output_type": "display_data",
          "data": {
            "text/plain": [
              "<Figure size 500x500 with 1 Axes>"
            ],
            "image/png": "[encoded data removed]"
          },
          "metadata": {}
        }
      ],
      "source": [
        "from sklearn.discriminant_analysis import LinearDiscriminantAnalysis\n",
        "from sklearn.model_selection import train_test_split\n",
        "from sklearn.datasets import load_iris\n",
        "from sklearn.preprocessing import StandardScaler\n",
        "import matplotlib.pyplot as plt\n",
        "\n",
        "# Load the iris dataset (or use your own dataset)\n",
        "iris = load_iris()\n",
        "X = iris.data\n",
        "y = iris.target\n",
        "\n",
        "# Split the data into training and testing sets\n",
        "X_train, X_test, y_train, y_test = train_test_split(X, y, test_size=0.2, random_state=42)\n",
        "\n",
        "# Standardize the features\n",
        "scaler = StandardScaler()\n",
        "X_train_std = scaler.fit_transform(X_train)\n",
        "X_test_std = scaler.transform(X_test)\n",
        "\n",
        "# Create an LDA model and fit it to the training data\n",
        "lda = LinearDiscriminantAnalysis(n_components=2)  # (output dimensions)\n",
        "X_train_lda = lda.fit_transform(X_train_std, y_train)\n",
        "\n",
        "# Project the test data onto the new subspace\n",
        "X_test_lda = lda.transform(X_test_std)\n",
        "\n",
        "# Plot the results\n",
        "plt.figure(figsize=(5, 5))\n",
        "\n",
        "for label in set(y_train):\n",
        "    plt.scatter(X_train_lda[y_train == label, 0], X_train_lda[y_train == label, 1], label=str(label))\n",
        "\n",
        "plt.title('LDA of Iris Dataset')\n",
        "plt.xlabel('LD1')\n",
        "plt.ylabel('LD2')\n",
        "plt.legend()\n",
        "plt.show()\n"
      ]
    },
    {
      "cell_type": "markdown",
      "source": [
        "#**Singular Value Decomposition (SVD)**\n",
        "is a fundamental matrix decomposition technique used in linear algebra and numerical analysis. It decomposes a matrix into three other matrices, which can be useful for various applications such as dimensionality reduction, data compression, and solving linear equations.\n",
        "\n",
        "For a given matrix \\( A \\), the SVD factorizes it into three matrices:\n",
        "$$\n",
        " A = U \\Sigma V^T\n",
        "$$\n",
        "\n",
        "Here, \\( U \\) is an orthogonal matrix representing the left singular vectors, Σ is a diagonal matrix containing the singular values, and  V^T  is the transpose of an orthogonal matrix representing the right singular vectors.\n",
        "\n",
        "- **Orthogonal matrices:** These are square matrices whose rows and columns are orthonormal unit vectors. For \\( U \\) and \\( V \\), this means that\n",
        "$$\n",
        " U^T U = I\n",
        " V^T V = I\n",
        "$$\n",
        ", where \\( I \\) is the identity matrix.\n",
        "\n",
        "- **Diagonal matrix \\( \\Sigma \\):** The singular values are the diagonal entries of Σ and are non-negative. They are arranged in descending order.\n",
        "\n",
        "The computation of SVD can be computationally intensive, especially for large matrices. Numerical libraries like NumPy, SciPy (in Python), and MATLAB often provide efficient implementations of SVD for practical use."
      ],
      "metadata": {
        "id": "jzK3xxWdl5MQ"
      }
    },
    {
      "cell_type": "markdown",
      "source": [
        "**Pros of Singular Value Decomposition (SVD):**\n",
        "\n",
        "1. **Dimensionality Reduction:**\n",
        "   - SVD can be used for dimensionality reduction by retaining only the most significant singular values and corresponding vectors. This is particularly useful in applications where data compression or feature reduction is desired.\n",
        "\n",
        "2. **Numerical Stability:**\n",
        "   - SVD is a numerically stable method for decomposing a matrix. It is less sensitive to small perturbations in the data compared to other matrix factorization techniques.\n",
        "\n",
        "3. **Data Compression:**\n",
        "   - SVD can be applied to compress data while retaining the most important information. This is commonly used in image compression and signal processing.\n",
        "\n",
        "4. **Solving Linear Systems:**\n",
        "   - SVD can be used to solve systems of linear equations, especially when the coefficient matrix is ill-conditioned.\n",
        "\n",
        "5. **Principal Component Analysis (PCA):**\n",
        "   - SVD is closely related to PCA, and it is often used for computing principal components in data analysis and machine learning.\n",
        "\n",
        "\n",
        "**Cons of Singular Value Decomposition (SVD):**\n",
        "\n",
        "1. **Computational Complexity:**\n",
        "   - The computation of SVD can be computationally expensive, especially for large matrices. This complexity can limit the practicality of SVD in certain applications.\n",
        "\n",
        "2. **Memory Requirements:**\n",
        "   - Storing the entire SVD decomposition, especially for large matrices, may require a significant amount of memory. This can be a limitation in memory-constrained environments.\n",
        "\n",
        "3. **Not Always Applicable:**\n",
        "   - SVD may not be applicable to all types of matrices. For example, if the matrix is not square or if it is sparse, alternative techniques might be more suitable.\n",
        "\n",
        "4. **Interpretability:**\n",
        "   - While SVD provides a mathematical decomposition, interpreting the meaning of the singular values and vectors in the context of the original data may not always be straightforward.\n",
        "\n",
        "5. **Loss of Information in Dimensionality Reduction:**\n",
        "   - When performing dimensionality reduction by truncating singular values, there is a trade-off between reduced dimensionality and loss of information. Choosing an appropriate level of truncation is crucial.\n",
        "\n",
        "Despite these limitations, SVD remains a powerful tool in various fields and is widely used in applications ranging from data analysis to machine learning and signal processing. Understanding its strengths and weaknesses allows practitioners to apply it effectively in suitable contexts."
      ],
      "metadata": {
        "id": "S3TkW3YfnmG9"
      }
    },
    {
      "cell_type": "code",
      "source": [
        "import numpy as np\n",
        "\n",
        "# Example matrix A (replace with your own matrix)\n",
        "A = np.array([[1, 2, 3], [4, 5, 6], [7, 8, 9]])\n",
        "\n",
        "# Perform SVD\n",
        "U, S, Vt = np.linalg.svd(A)\n",
        "\n",
        "# U and Vt are orthogonal matrices, and S is a 1-D array of singular values\n",
        "\n",
        "# Reconstruct the original matrix using the decomposed matrices\n",
        "A_reconstructed = U @ np.diag(S) @ Vt\n",
        "\n",
        "# Print the results\n",
        "print(\"Original Matrix:\")\n",
        "print(A)\n",
        "print(\"\\nOrthogonal Matrix U:\")\n",
        "print(U)\n",
        "print(\"\\nSingular Values (Diagonal Matrix S):\")\n",
        "print(np.diag(S))\n",
        "print(\"\\nOrthogonal Matrix Vt:\")\n",
        "print(Vt)\n",
        "print(\"\\nReconstructed Matrix:\")\n",
        "print(A_reconstructed)\n"
      ],
      "metadata": {
        "colab": {
          "base_uri": "https://localhost:8080/"
        },
        "id": "U8onMonalQg3",
        "outputId": "0f70806d-0931-4684-9b2f-32f0b6c84645"
      },
      "execution_count": 3,
      "outputs": [
        {
          "output_type": "stream",
          "name": "stdout",
          "text": [
            "Original Matrix:\n",
            "[[1 2 3]\n",
            " [4 5 6]\n",
            " [7 8 9]]\n",
            "\n",
            "Orthogonal Matrix U:\n",
            "[[-0.21483724  0.88723069  0.40824829]\n",
            " [-0.52058739  0.24964395 -0.81649658]\n",
            " [-0.82633754 -0.38794278  0.40824829]]\n",
            "\n",
            "Singular Values (Diagonal Matrix S):\n",
            "[[1.68481034e+01 0.00000000e+00 0.00000000e+00]\n",
            " [0.00000000e+00 1.06836951e+00 0.00000000e+00]\n",
            " [0.00000000e+00 0.00000000e+00 4.41842475e-16]]\n",
            "\n",
            "Orthogonal Matrix Vt:\n",
            "[[-0.47967118 -0.57236779 -0.66506441]\n",
            " [-0.77669099 -0.07568647  0.62531805]\n",
            " [-0.40824829  0.81649658 -0.40824829]]\n",
            "\n",
            "Reconstructed Matrix:\n",
            "[[1. 2. 3.]\n",
            " [4. 5. 6.]\n",
            " [7. 8. 9.]]\n"
          ]
        }
      ]
    },
    {
      "cell_type": "code",
      "source": [
        "import numpy as np\n",
        "from sklearn.decomposition import TruncatedSVD\n",
        "\n",
        "# Example matrix A (replace with your own matrix)\n",
        "A = np.array([[1, 2, 3], [4, 5, 6], [7, 8, 9]])\n",
        "\n",
        "# Specify the number of components (k) for truncated SVD\n",
        "k = 2\n",
        "\n",
        "# Perform Truncated SVD\n",
        "svd = TruncatedSVD(n_components=k)\n",
        "A_svd = svd.fit_transform(A)\n",
        "\n",
        "# Reconstruct the original matrix using the truncated SVD components\n",
        "A_reconstructed = svd.inverse_transform(A_svd)\n",
        "\n",
        "# Print the results\n",
        "print(\"Original Matrix:\")\n",
        "print(A)\n",
        "print(\"\\nTruncated SVD Components:\")\n",
        "print(A_svd)\n",
        "print(\"\\nReconstructed Matrix:\")\n",
        "print(A_reconstructed)\n"
      ],
      "metadata": {
        "colab": {
          "base_uri": "https://localhost:8080/"
        },
        "id": "WDmZbc37ny-Q",
        "outputId": "d79f3118-76e2-4a95-c329-9e1bc9b75b87"
      },
      "execution_count": 4,
      "outputs": [
        {
          "output_type": "stream",
          "name": "stdout",
          "text": [
            "Original Matrix:\n",
            "[[1 2 3]\n",
            " [4 5 6]\n",
            " [7 8 9]]\n",
            "\n",
            "Truncated SVD Components:\n",
            "[[ 3.6196      0.94789022]\n",
            " [ 8.77091014  0.26671199]\n",
            " [13.92222029 -0.41446624]]\n",
            "\n",
            "Reconstructed Matrix:\n",
            "[[1. 2. 3.]\n",
            " [4. 5. 6.]\n",
            " [7. 8. 9.]]\n"
          ]
        }
      ]
    },
    {
      "cell_type": "code",
      "source": [],
      "metadata": {
        "id": "7z0mSJVkoNIx"
      },
      "execution_count": null,
      "outputs": []
    }
  ]
}